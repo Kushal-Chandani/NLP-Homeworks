{
  "cells": [
    {
      "cell_type": "code",
      "execution_count": 2,
      "metadata": {
        "id": "dY8uCaPhoX2T"
      },
      "outputs": [],
      "source": [
        "#important libraries\n",
        "\n",
        "import re\n",
        "import requests\n",
        "from collections import defaultdict, Counter\n",
        "import math\n",
        "import pandas as pd\n",
        "import numpy as np\n",
        "import string"
      ]
    },
    {
      "cell_type": "markdown",
      "metadata": {
        "id": "y956eS2yoeSZ"
      },
      "source": [
        "##Question 1: Implementing an N-Gram Language Model and Testing Perplexity [20]"
      ]
    },
    {
      "cell_type": "code",
      "execution_count": 3,
      "metadata": {
        "id": "pOT3fqcuocAz"
      },
      "outputs": [],
      "source": [
        "#Function to preprocess text (lowercase, remove special characters, tokenize)\n",
        "def preprocess_text(text):\n",
        "    text = text.lower()\n",
        "    text = re.sub(r'[^a-z\\s]', '', text)\n",
        "    tokens = text.split()\n",
        "    return tokens\n",
        "\n",
        "#Function to load data from a URL\n",
        "def load_data_from_url(url):\n",
        "    response = requests.get(url)\n",
        "    text = response.text\n",
        "    return preprocess_text(text)\n",
        "\n",
        "train_url = \"https://raw.githubusercontent.com/Kushal-Chandani/NLP-Homeworks/refs/heads/main/Homework2/Data/Question1/train.txt\"\n",
        "test_url = \"https://raw.githubusercontent.com/Kushal-Chandani/NLP-Homeworks/refs/heads/main/Homework2/Data/Question1/test.txt\"\n",
        "\n",
        "train_data = load_data_from_url(train_url)\n",
        "test_data = load_data_from_url(test_url)"
      ]
    },
    {
      "cell_type": "code",
      "execution_count": 4,
      "metadata": {
        "colab": {
          "base_uri": "https://localhost:8080/"
        },
        "id": "DdQLH89lob-Q",
        "outputId": "d143e189-1b0f-45aa-ea17-637c3b6fae91"
      },
      "outputs": [
        {
          "name": "stdout",
          "output_type": "stream",
          "text": [
            "Train data: ['the', 'quick', 'brown', 'fox', 'jumps', 'over', 'the', 'lazy', 'dog', 'the', 'fox', 'is', 'quick', 'and', 'the', 'dog', 'is', 'lazy', 'quick', 'brown', 'foxes', 'are', 'smarter', 'than', 'lazy', 'dogs', 'dogs', 'are', 'loyal', 'but', 'sometimes', 'lazy', 'the', 'quick', 'brown', 'fox', 'is', 'too', 'clever', 'for', 'the', 'lazy', 'dog', 'foxes', 'and', 'dogs', 'do', 'not', 'always', 'get', 'along', 'a', 'clever', 'fox', 'can', 'easily', 'trick', 'a', 'lazy', 'dog']\n"
          ]
        }
      ],
      "source": [
        "print(f\"Train data: {train_data}\")"
      ]
    },
    {
      "cell_type": "code",
      "execution_count": 5,
      "metadata": {
        "colab": {
          "base_uri": "https://localhost:8080/"
        },
        "id": "tCQwrp2iob75",
        "outputId": "c00634ca-d292-425e-cb33-3abfc0e869d1"
      },
      "outputs": [
        {
          "name": "stdout",
          "output_type": "stream",
          "text": [
            "Test data: ['the', 'fox', 'and', 'the', 'dog', 'are', 'friends', 'sometimes', 'the', 'quick', 'fox', 'plays', 'with', 'the', 'lazy', 'dog', 'foxes', 'are', 'clever', 'and', 'dogs', 'are', 'loyal', 'a', 'lazy', 'dog', 'can', 'be', 'tricky', 'to', 'train']\n"
          ]
        }
      ],
      "source": [
        "print(f\"Test data: {test_data}\")"
      ]
    },
    {
      "cell_type": "code",
      "execution_count": 6,
      "metadata": {
        "id": "Seigi5Egohva"
      },
      "outputs": [],
      "source": [
        "#Function to generate n-grams\n",
        "def generate_ngrams(tokens, n):\n",
        "    return [tuple(tokens[i:i+n]) for i in range(len(tokens)-n+1)]\n",
        "\n",
        "#Initialize the NGram model variables\n",
        "def init_ngram_model(n):\n",
        "    return {\n",
        "        \"n\": n,\n",
        "        \"ngram_counts\": defaultdict(Counter),\n",
        "        \"context_counts\": defaultdict(int),\n",
        "        \"vocab\": set()\n",
        "    }\n",
        "\n",
        "#Train the NGram model\n",
        "def train_ngram_model(model, tokens):\n",
        "    n = model[\"n\"]\n",
        "    ngrams = generate_ngrams(tokens, n)\n",
        "    for ngram in ngrams:\n",
        "        context = ngram[:-1]\n",
        "        word = ngram[-1]\n",
        "        model[\"ngram_counts\"][context][word] += 1\n",
        "        model[\"context_counts\"][context] += 1\n",
        "        model[\"vocab\"].add(word)\n",
        "\n",
        "#Get the probability of a word given a context with add-one smoothing\n",
        "def get_prob(model, context, word):\n",
        "    ngram_counts = model[\"ngram_counts\"]\n",
        "    context_counts = model[\"context_counts\"]\n",
        "    vocab = model[\"vocab\"]\n",
        "\n",
        "    return (ngram_counts[context][word] + 1) / (context_counts[context] + len(vocab))"
      ]
    },
    {
      "cell_type": "code",
      "execution_count": 7,
      "metadata": {
        "id": "BCP-rL1iohtT"
      },
      "outputs": [],
      "source": [
        "def calculate_perplexity(model, test_tokens):\n",
        "    n = model[\"n\"]\n",
        "    ngrams = generate_ngrams(test_tokens, n)\n",
        "    log_prob_sum = 0\n",
        "    N = len(ngrams)\n",
        "\n",
        "    for ngram in ngrams:\n",
        "        context = ngram[:-1]\n",
        "        word = ngram[-1]\n",
        "        prob = get_prob(model, context, word)\n",
        "        log_prob_sum += math.log(prob)\n",
        "\n",
        "    perplexity = math.exp(-log_prob_sum / N)\n",
        "    return perplexity"
      ]
    },
    {
      "cell_type": "code",
      "execution_count": 8,
      "metadata": {
        "colab": {
          "base_uri": "https://localhost:8080/"
        },
        "id": "MrLUe8YyohrY",
        "outputId": "230f2105-1b36-4f8b-f79b-51df0ca2a6dc"
      },
      "outputs": [
        {
          "name": "stdout",
          "output_type": "stream",
          "text": [
            "1-Gram Perplexity: 30.458558025975183\n",
            "2-Gram Perplexity: 22.415903584375318\n",
            "3-Gram Perplexity: 26.756721385458494\n"
          ]
        }
      ],
      "source": [
        "for n in [1, 2, 3]:\n",
        "    model = init_ngram_model(n)\n",
        "    train_ngram_model(model, train_data)\n",
        "\n",
        "    perplexity = calculate_perplexity(model, test_data)\n",
        "    print(f\"{n}-Gram Perplexity: {perplexity}\")"
      ]
    },
    {
      "cell_type": "markdown",
      "metadata": {
        "id": "QCXsXq1eqOLL"
      },
      "source": [
        "#The results are shown above\n"
      ]
    }
  ],
  "metadata": {
    "colab": {
      "provenance": []
    },
    "kernelspec": {
      "display_name": "base",
      "language": "python",
      "name": "python3"
    },
    "language_info": {
      "codemirror_mode": {
        "name": "ipython",
        "version": 3
      },
      "file_extension": ".py",
      "mimetype": "text/x-python",
      "name": "python",
      "nbconvert_exporter": "python",
      "pygments_lexer": "ipython3",
      "version": "3.11.4"
    }
  },
  "nbformat": 4,
  "nbformat_minor": 0
}
